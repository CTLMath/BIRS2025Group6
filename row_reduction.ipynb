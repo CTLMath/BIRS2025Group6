{
 "cells": [
  {
   "cell_type": "code",
   "execution_count": null,
   "id": "64ff04ef",
   "metadata": {},
   "outputs": [],
   "source": [
    "from sympy import eye, Matrix, Rational\n",
    "from typing import Literal\n",
    "from dataclasses import dataclass\n",
    "\n",
    "OpType = Literal[\"n->kn\", \"n<->m\", \"n->n+km\"]\n",
    "\n",
    "\n",
    "@dataclass(frozen=True)\n",
    "class ScaleOp:\n",
    "    n: int\n",
    "    k: Rational\n",
    "\n",
    "\n",
    "@dataclass(frozen=True)\n",
    "class SwapOp:\n",
    "    n: int\n",
    "    m: int\n",
    "\n",
    "\n",
    "@dataclass(frozen=True)\n",
    "class AddOp:\n",
    "    n: int\n",
    "    m: int\n",
    "    k: Rational\n",
    "\n",
    "\n",
    "Op = SwapOp | ScaleOp | AddOp\n",
    "\n",
    "\n",
    "class RowReduction:\n",
    "    def __init__(self, A: Matrix):\n",
    "        self.A = A\n",
    "        self.m = A.rows\n",
    "        self.n = A.cols\n",
    "        self.ops: list[Op] = []\n",
    "\n",
    "    def op(\n",
    "        self,\n",
    "        i: int | None = None,\n",
    "        j: int | None = None,\n",
    "        c: int | Rational | None = None,\n",
    "    ):\n",
    "        assert i is not None\n",
    "        if j is not None and c is None:\n",
    "            op = SwapOp(i, j)\n",
    "        elif j is None and c is not None:\n",
    "            op = ScaleOp(i, c)\n",
    "        elif j is not None and c is not None:\n",
    "            op = AddOp(i, j, c)\n",
    "        else:\n",
    "            raise ValueError()\n",
    "        self.ops.append(op)\n",
    "        display(self.result)\n",
    "\n",
    "    @property\n",
    "    def result(self) -> Matrix:\n",
    "        B = self.A.copy()\n",
    "        for op in self.ops:\n",
    "            match op:\n",
    "                case ScaleOp(i, c):\n",
    "                    B = B.elementary_row_op(\"n->kn\", row=i, k=c)  # type: ignore\n",
    "                case SwapOp(i, j):\n",
    "                    B = B.elementary_row_op(\"n<->m\", row1=i, row2=j)  # type: ignore\n",
    "                case AddOp(i, j, c):\n",
    "                    B = B.elementary_row_op(\"n->n+km\", row1=i, row2=j, k=c)  # type: ignore\n",
    "        return B  # type: ignore\n",
    "\n",
    "    @property\n",
    "    def elementary_matrices(self):\n",
    "        mats: list[Matrix] = []\n",
    "        for op in self.ops:\n",
    "            I = eye(self.A.rows)  # type: ignore\n",
    "            match op:\n",
    "                case ScaleOp(i, c):\n",
    "                    mat = I.elementary_row_op(\"n->kn\", row=i, k=c)  # type: ignore\n",
    "                case SwapOp(i, j):\n",
    "                    mat = I.elementary_row_op(\"n<->m\", row1=i, row2=j)  # type: ignore\n",
    "                case AddOp(i, j, c):\n",
    "                    mat = I.elementary_row_op(\"n->n+km\", row1=i, row2=j, k=c)  # type: ignore\n",
    "            mats.append(mat)  # type: ignore\n",
    "        return mats\n",
    "\n",
    "    @property\n",
    "    def reducing_matrix(self) -> Matrix:\n",
    "        mat = eye(self.A.rows)  # type: ignore\n",
    "        for E in self.elementary_matrices:\n",
    "            mat = E @ mat  # type: ignore\n",
    "        return mat  # type: ignore\n",
    "\n",
    "    def is_rref(self) -> bool:\n",
    "        rref, _ = self.A.rref()  # type: ignore\n",
    "        return rref == self.result()  # type: ignore"
   ]
  },
  {
   "cell_type": "code",
   "execution_count": null,
   "id": "8dfdbafe",
   "metadata": {},
   "outputs": [],
   "source": [
    "A = Matrix([[0, 1, 2], [3, 4, 5], [6, 7, 8]])\n",
    "A"
   ]
  },
  {
   "cell_type": "code",
   "execution_count": null,
   "id": "70b7cb00",
   "metadata": {},
   "outputs": [],
   "source": [
    "R = RowReduction(A)\n",
    "\n",
    "R.op(i=0, j=1)"
   ]
  },
  {
   "cell_type": "code",
   "execution_count": null,
   "id": "83069bf1",
   "metadata": {},
   "outputs": [],
   "source": [
    "R.op(i=0, c=Rational(1, 3))"
   ]
  },
  {
   "cell_type": "code",
   "execution_count": null,
   "id": "5f44d6f1",
   "metadata": {},
   "outputs": [],
   "source": [
    "R.op(i=2, j=0, c=-6)"
   ]
  },
  {
   "cell_type": "code",
   "execution_count": null,
   "id": "dc281990",
   "metadata": {},
   "outputs": [],
   "source": [
    "R.op(i=0, j=1, c=Rational(-4, 3))\n",
    "R.op(i=2, j=1, c=1)"
   ]
  },
  {
   "cell_type": "code",
   "execution_count": null,
   "id": "66a1e10a",
   "metadata": {},
   "outputs": [],
   "source": [
    "U = R.reducing_matrix\n",
    "U"
   ]
  },
  {
   "cell_type": "code",
   "execution_count": null,
   "id": "cbfa9b27",
   "metadata": {},
   "outputs": [],
   "source": [
    "U @ A == R.result"
   ]
  }
 ],
 "metadata": {
  "kernelspec": {
   "display_name": ".venv",
   "language": "python",
   "name": "python3"
  },
  "language_info": {
   "name": "python",
   "version": "3.13.2"
  }
 },
 "nbformat": 4,
 "nbformat_minor": 5
}
