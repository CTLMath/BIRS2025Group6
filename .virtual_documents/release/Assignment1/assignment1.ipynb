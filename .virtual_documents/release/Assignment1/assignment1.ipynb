


import numpy as np





# YOUR CODE HERE
raise NotImplementedError()


"Verify that A and rank_A have been computed correctly. This cell contains hidden tests. (1 mark)"
assert rank_A.is_integer() and rank_A>=0, "rank_A should be a nonnegative integer."
print("Problem 1: Success!")





# YOUR CODE HERE
raise NotImplementedError()


"Verify that B and rank_B have been computed correctly. This cell contains hidden tests. (1 mark)"
assert rank_B.is_integer() and rank_B>=0, "rank_B should be a nonnegative integer."
print("Problem 2: Success!")





# YOUR CODE HERE
raise NotImplementedError()


"This cell contains hidden tests. (1 mark)"
print("Problem 3:Success!")
