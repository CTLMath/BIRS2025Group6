


import numpy as np





### BEGIN SOLUTION
A = np.array([[1,2,1],[3,0,5],[7,1,0]])
rank_A = np.linalg.matrix_rank(A)
### END SOLUTION


"Verify that A and rank_A have been computed correctly. This cell contains hidden tests. (1 mark)"
assert rank_A.is_integer() and rank_A>=0, "rank_A should be a nonnegative integer."
### BEGIN HIDDEN TESTS
assert rank_A == np.linalg.matrix_rank(A)
### END HIDDEN TESTS
print("Problem 1: Success!")





### BEGIN SOLUTION
B = np.array([[1,2,1,0],[3,0,5,-1],[7,-1,0,2]])
rank_B = np.linalg.matrix_rank(B)
### END SOLUTION


"Verify that B and rank_B have been computed correctly. This cell contains hidden tests. (1 mark)"
assert rank_B.is_integer() and rank_B>=0, "rank_B should be a nonnegative integer."
### BEGIN HIDDEN TESTS
assert rank_B == np.linalg.matrix_rank(B)
### END HIDDEN TESTS
print("Problem 2: Success!")





### BEGIN SOLUTION
S=1
### END SOLUTION


"This cell contains hidden tests. (1 mark)"
### BEGIN HIDDEN TESTS
assert S==1
### END HIDDEN TESTS
print("Problem 3:Success!")
