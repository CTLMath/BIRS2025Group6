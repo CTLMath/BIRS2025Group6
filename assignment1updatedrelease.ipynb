{
 "cells": [
  {
   "cell_type": "markdown",
   "id": "45923fa1-3c72-4925-86f1-cec8992c37eb",
   "metadata": {
    "deletable": false,
    "editable": false,
    "nbgrader": {
     "cell_type": "markdown",
     "checksum": "391e9fe6b42c5791ee7f9877d89f5166",
     "grade": false,
     "grade_id": "cell-1a743c649a7756be",
     "locked": true,
     "schema_version": 3,
     "solution": false,
     "task": false
    }
   },
   "source": [
    "# MATH 666 Linear Algebra 1\n",
    "## Assignment 1: Rank\n",
    "\n",
    "* See ?? for a refresher on Python and Jupyter\n",
    "* Run the tests to verify your solutions\n",
    "* There are hidden tests that will be run once you submit your solutions. So your solutions may not be entirely correct even if they pass the tests below\n",
    "* **Deadline:** Saturday, May 24 at 11:59 PM"
   ]
  },
  {
   "cell_type": "code",
   "execution_count": null,
   "id": "bf953f8a-ad39-4450-9e58-3c0d4b93b1bf",
   "metadata": {
    "deletable": false,
    "editable": false,
    "nbgrader": {
     "cell_type": "code",
     "checksum": "141354cccf15cadd8561d83bc810d6e9",
     "grade": false,
     "grade_id": "cell-8b9f2ccd4b3b4daa",
     "locked": true,
     "schema_version": 3,
     "solution": false,
     "task": false
    }
   },
   "outputs": [],
   "source": [
    "import numpy as np"
   ]
  },
  {
   "cell_type": "markdown",
   "id": "b8fd63f0-f084-4ebe-a2c2-a59209a70fd7",
   "metadata": {
    "deletable": false,
    "editable": false,
    "nbgrader": {
     "cell_type": "markdown",
     "checksum": "554838d216ba4770697ccb45d3cecedf",
     "grade": false,
     "grade_id": "cell-428f622a369064e5",
     "locked": true,
     "schema_version": 3,
     "solution": false,
     "task": false
    }
   },
   "source": [
    "Write code that calculates the rank of the matrix\n",
    "$$ A = \\begin{bmatrix} 1 & 2 & 1 \\\\ 3 & 0 & 5 \\\\ 7 & -1 & 0 \\end{bmatrix}. $$\n",
    "Save your answers as <code>A</code> and <code>rank_A</code>, respectively."
   ]
  },
  {
   "cell_type": "code",
   "execution_count": null,
   "id": "3842adc8-dd06-47aa-9d26-efb9661fade5",
   "metadata": {
    "deletable": false,
    "nbgrader": {
     "cell_type": "code",
     "checksum": "2c735b72401f3f4b9a3b2c78b4d5f37c",
     "grade": false,
     "grade_id": "cell-38c212c0fdfa99af",
     "locked": false,
     "schema_version": 3,
     "solution": true,
     "task": false
    }
   },
   "outputs": [],
   "source": [
    "# YOUR CODE HERE\n",
    "raise NotImplementedError()"
   ]
  },
  {
   "cell_type": "code",
   "execution_count": null,
   "id": "9083712a-9bed-421e-b7da-9482f32477e5",
   "metadata": {
    "deletable": false,
    "editable": false,
    "nbgrader": {
     "cell_type": "code",
     "checksum": "ba22e79bd9f9aa57a1fd238cbd6d20f4",
     "grade": true,
     "grade_id": "cell-8ca8b4a01e63ef61",
     "locked": true,
     "points": 1,
     "schema_version": 3,
     "solution": false,
     "task": false
    }
   },
   "outputs": [],
   "source": [
    "\"Verify that A and rank_A have been computed correctly. This cell contains hidden tests. (1 mark)\"\n",
    "assert rank_A.is_integer() and rank_A>=0, \"rank_A should be a nonnegative integer.\"\n",
    "print(\"Problem 1: Success!\")"
   ]
  },
  {
   "cell_type": "markdown",
   "id": "23b34567-4f5f-46a4-b6ed-437d5d79e360",
   "metadata": {
    "deletable": false,
    "editable": false,
    "nbgrader": {
     "cell_type": "markdown",
     "checksum": "c43558dc92b630d0aca1e795aaef37b3",
     "grade": false,
     "grade_id": "cell-6c99c95dd73bb81b",
     "locked": true,
     "schema_version": 3,
     "solution": false,
     "task": false
    }
   },
   "source": [
    "Write code that calculates the rank of the matrix\n",
    "$$ [A\\,|\\,\\textbf{b}] = \\left[\\begin{array}{ccc|c} 1 & 2 & 1 & 0 \\\\ 3 & 0 & 5 & -1 \\\\ 7 & -1 & 0 & 2\\end{array}\\right].$$\n",
    "Save your answers as <code>B</code> and <code>rank_B</code>, respectively."
   ]
  },
  {
   "cell_type": "code",
   "execution_count": null,
   "id": "e4ba0c92-b889-4351-bc73-924494501232",
   "metadata": {
    "deletable": false,
    "nbgrader": {
     "cell_type": "code",
     "checksum": "fbadbe506b6ab6f3889b28cf37b67fea",
     "grade": false,
     "grade_id": "cell-be7a9c9445424056",
     "locked": false,
     "schema_version": 3,
     "solution": true,
     "task": false
    }
   },
   "outputs": [],
   "source": [
    "# YOUR CODE HERE\n",
    "raise NotImplementedError()"
   ]
  },
  {
   "cell_type": "code",
   "execution_count": null,
   "id": "d4a07409-9f07-4f9f-a615-ff32d3146bc6",
   "metadata": {
    "deletable": false,
    "editable": false,
    "nbgrader": {
     "cell_type": "code",
     "checksum": "62414fb714cdfe67b24acdcc909253a8",
     "grade": true,
     "grade_id": "cell-89c1afd1d475269c",
     "locked": true,
     "points": 6,
     "schema_version": 3,
     "solution": false,
     "task": false
    }
   },
   "outputs": [],
   "source": [
    "\"Verify that B and rank_B have been computed correctly. This cell contains hidden tests. (1 mark)\"\n",
    "assert rank_B.is_integer() and rank_B>=0, \"rank_B should be a nonnegative integer.\"\n",
    "print(\"Problem 2: Success!\")"
   ]
  },
  {
   "cell_type": "markdown",
   "id": "26b234f6-36b8-4ebf-b392-b6326dff3c27",
   "metadata": {
    "deletable": false,
    "editable": false,
    "nbgrader": {
     "cell_type": "markdown",
     "checksum": "d62821b60dfd1679f67aba868fc0b4da",
     "grade": false,
     "grade_id": "cell-4aa2bfac0204eb6a",
     "locked": true,
     "schema_version": 3,
     "solution": false,
     "task": false
    }
   },
   "source": [
    "How many solutions does the following system of equations have?\n",
    "$$\n",
    "\\begin{align*}\n",
    "x+2y+z &= 0 \\\\\n",
    "3x+5z &= -1 \\\\\n",
    "7x-y &= 2\n",
    "\\end{align*}\n",
    "$$\n",
    "If there are none, enter <code>S=0</code>, if there is exactly one, enter <code>S=1</code>, and if there are infinitely many, enter <code>S=np.inf</code>"
   ]
  },
  {
   "cell_type": "code",
   "execution_count": null,
   "id": "fd324999-2fc4-4c29-af21-7ee0ede7f8e9",
   "metadata": {
    "deletable": false,
    "nbgrader": {
     "cell_type": "code",
     "checksum": "b2b995706cd6b44ffe0031a5151e759f",
     "grade": false,
     "grade_id": "cell-214e2f9ac3e54237",
     "locked": false,
     "schema_version": 3,
     "solution": true,
     "task": false
    }
   },
   "outputs": [],
   "source": [
    "# YOUR CODE HERE\n",
    "raise NotImplementedError()"
   ]
  },
  {
   "cell_type": "code",
   "execution_count": null,
   "id": "e187ee76-29a9-4f8d-93c1-3618afb3fbe6",
   "metadata": {
    "deletable": false,
    "editable": false,
    "nbgrader": {
     "cell_type": "code",
     "checksum": "cb825002a16059c6c3308592d9b592a1",
     "grade": true,
     "grade_id": "cell-ddcb60f446818c7d",
     "locked": true,
     "points": 1,
     "schema_version": 3,
     "solution": false,
     "task": false
    }
   },
   "outputs": [],
   "source": [
    "\"This cell contains hidden tests. (1 mark)\"\n",
    "print(\"Problem 3:Success!\")"
   ]
  },
  {
   "cell_type": "markdown",
   "id": "2dce349d",
   "metadata": {
    "deletable": false,
    "editable": false,
    "nbgrader": {
     "cell_type": "markdown",
     "checksum": "6c94d91c9d0c66c30c5b47d4333f4d32",
     "grade": false,
     "grade_id": "cell-070b4bf1f8dec774",
     "locked": true,
     "schema_version": 3,
     "solution": false,
     "task": false
    }
   },
   "source": [
    "Find the unique value of $a$ such that\n",
    "$$\n",
    "\\begin{pmatrix}\n",
    "1 & 1 & 2\\\\\n",
    "3 & 5 & 8\\\\\n",
    "13 & 21 & a\n",
    "\\end{pmatrix}\n",
    "$$\n",
    "has rank two."
   ]
  },
  {
   "cell_type": "code",
   "execution_count": null,
   "id": "b19d1899",
   "metadata": {
    "deletable": false,
    "nbgrader": {
     "cell_type": "code",
     "checksum": "05d8e27644a5cfec30521b975067983f",
     "grade": false,
     "grade_id": "cell-7c0099af6fc40562",
     "locked": false,
     "schema_version": 3,
     "solution": true,
     "task": false
    }
   },
   "outputs": [],
   "source": [
    "# YOUR CODE HERE\n",
    "raise NotImplementedError()"
   ]
  },
  {
   "cell_type": "code",
   "execution_count": null,
   "id": "ff0bf076",
   "metadata": {
    "deletable": false,
    "editable": false,
    "nbgrader": {
     "cell_type": "code",
     "checksum": "348194c8c6358ad235b3b91d0264f737",
     "grade": true,
     "grade_id": "cell-bf0f1621a491b170",
     "locked": true,
     "points": 1,
     "schema_version": 3,
     "solution": false,
     "task": false
    }
   },
   "outputs": [],
   "source": [
    "\"This cell contains hidden tests. (1 mark)\"\n",
    "print(\"Problem 4:Success!\")"
   ]
  }
 ],
 "metadata": {
  "kernelspec": {
   "display_name": "Python 3 (ipykernel)",
   "language": "python",
   "name": "python3"
  },
  "language_info": {
   "codemirror_mode": {
    "name": "ipython",
    "version": 3
   },
   "file_extension": ".py",
   "mimetype": "text/x-python",
   "name": "python",
   "nbconvert_exporter": "python",
   "pygments_lexer": "ipython3",
   "version": "3.10.16"
  }
 },
 "nbformat": 4,
 "nbformat_minor": 5
}
