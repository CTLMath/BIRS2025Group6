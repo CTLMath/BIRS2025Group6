{
 "cells": [
  {
   "cell_type": "markdown",
   "id": "45923fa1-3c72-4925-86f1-cec8992c37eb",
   "metadata": {},
   "source": [
    "# MATH 666 Linear Algebra 1\n",
    "## Assignment 1: Rank\n",
    "\n",
    "* See ?? for a refresher on Python and Jupyter\n",
    "* Run the tests to verify your solutions\n",
    "* There are hidden tests that will be run once you submit your solutions. So your solutions may not be entirely correct even if they pass the tests below\n",
    "* **Deadline:** Saturday, May 24 at 11:59 PM"
   ]
  },
  {
   "cell_type": "code",
   "execution_count": 8,
   "id": "bf953f8a-ad39-4450-9e58-3c0d4b93b1bf",
   "metadata": {},
   "outputs": [],
   "source": [
    "import numpy as np"
   ]
  },
  {
   "cell_type": "markdown",
   "id": "b8fd63f0-f084-4ebe-a2c2-a59209a70fd7",
   "metadata": {},
   "source": [
    "Write code that calculates the rank of the matrix\n",
    "$$ A = \\begin{bmatrix} 1 & 2 & 1 \\\\ 3 & 0 & 5 \\\\ 7 & -1 & 0 \\end{bmatrix} $$"
   ]
  },
  {
   "cell_type": "code",
   "execution_count": 21,
   "id": "3842adc8-dd06-47aa-9d26-efb9661fade5",
   "metadata": {},
   "outputs": [],
   "source": [
    "### BEGIN SOLUTION ###\n",
    "A = np.array([[1,2,1],[3,0,5],[7,1,0]])\n",
    "r1 = np.linalg.matrix_rank(A)\n",
    "### END SOLUTION ###"
   ]
  },
  {
   "cell_type": "code",
   "execution_count": 15,
   "id": "9083712a-9bed-421e-b7da-9482f32477e5",
   "metadata": {},
   "outputs": [],
   "source": [
    "# hidden test?"
   ]
  },
  {
   "cell_type": "markdown",
   "id": "23b34567-4f5f-46a4-b6ed-437d5d79e360",
   "metadata": {},
   "source": [
    "Write code that calculates the rank of the matrix\n",
    "$$ [A\\,|\\,\\textbf{b}] = \\left[\\begin{array}{ccc|c} 1 & 2 & 1 & 0 \\\\ 3 & 0 & 5 & -1 \\\\ 7 & -1 & 0 & 2\\end{array}\\right] $$"
   ]
  },
  {
   "cell_type": "code",
   "execution_count": 25,
   "id": "e4ba0c92-b889-4351-bc73-924494501232",
   "metadata": {},
   "outputs": [],
   "source": [
    "### BEGIN SOLUTION ###\n",
    "B = np.array([[1,2,1,0],[3,0,5,-1],[7,-1,0,2]])\n",
    "r2 = np.linalg.matrix_rank(A)\n",
    "### END SOLUTION ###"
   ]
  },
  {
   "cell_type": "markdown",
   "id": "26b234f6-36b8-4ebf-b392-b6326dff3c27",
   "metadata": {},
   "source": [
    "Does the following system of equations have any solutions? Input 1 if yes; 0 if no.\n",
    "$$\n",
    "\\begin{align*}\n",
    "x+2y+z &= 0 \\\\\n",
    "3x+5z &= -1 \\\\\n",
    "7x-y &= 2\n",
    "\\end{align*}\n",
    "$$"
   ]
  },
  {
   "cell_type": "code",
   "execution_count": 24,
   "id": "fd324999-2fc4-4c29-af21-7ee0ede7f8e9",
   "metadata": {},
   "outputs": [],
   "source": [
    "## BEGIN SOLUtION ##\n",
    "## END SOLUTION ##"
   ]
  },
  {
   "cell_type": "code",
   "execution_count": null,
   "id": "e187ee76-29a9-4f8d-93c1-3618afb3fbe6",
   "metadata": {},
   "outputs": [],
   "source": []
  }
 ],
 "metadata": {
  "kernelspec": {
   "display_name": "Python 3 (ipykernel)",
   "language": "python",
   "name": "python3"
  },
  "language_info": {
   "codemirror_mode": {
    "name": "ipython",
    "version": 3
   },
   "file_extension": ".py",
   "mimetype": "text/x-python",
   "name": "python",
   "nbconvert_exporter": "python",
   "pygments_lexer": "ipython3",
   "version": "3.12.8"
  }
 },
 "nbformat": 4,
 "nbformat_minor": 5
}
