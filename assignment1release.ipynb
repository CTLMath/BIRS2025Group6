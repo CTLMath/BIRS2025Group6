{
 "cells": [
  {
   "cell_type": "markdown",
   "id": "45923fa1-3c72-4925-86f1-cec8992c37eb",
   "metadata": {
    "deletable": false,
    "editable": false,
    "nbgrader": {
     "cell_type": "markdown",
     "checksum": "666551fb810bdf2b0870cbf3e9810792",
     "grade": false,
     "grade_id": "cell-73906a552e122f62",
     "locked": true,
     "schema_version": 3,
     "solution": false,
     "task": false
    }
   },
   "source": [
    "# MATH 666 Linear Algebra 1\n",
    "## Assignment 1: Rank\n",
    "\n",
    "* See ?? for a refresher on Python and Jupyter\n",
    "* Run the tests to verify your solutions\n",
    "* There are hidden tests that will be run once you submit your solutions. So your solutions may not be entirely correct even if they pass the tests below\n",
    "* **Deadline:** Saturday, May 24 at 11:59 PM"
   ]
  },
  {
   "cell_type": "code",
   "execution_count": 1,
   "id": "bf953f8a-ad39-4450-9e58-3c0d4b93b1bf",
   "metadata": {
    "deletable": false,
    "editable": false,
    "nbgrader": {
     "cell_type": "code",
     "checksum": "525d8cde6d68f1b3012edba671f2e68e",
     "grade": false,
     "grade_id": "cell-2e0d2eb5d2e5ec1f",
     "locked": true,
     "schema_version": 3,
     "solution": false,
     "task": false
    }
   },
   "outputs": [],
   "source": [
    "import numpy as np"
   ]
  },
  {
   "cell_type": "markdown",
   "id": "b8fd63f0-f084-4ebe-a2c2-a59209a70fd7",
   "metadata": {
    "deletable": false,
    "editable": false,
    "nbgrader": {
     "cell_type": "markdown",
     "checksum": "159879b4def089b846d45ddfa71a3c6d",
     "grade": false,
     "grade_id": "cell-39b2501a9c54bc47",
     "locked": true,
     "schema_version": 3,
     "solution": false,
     "task": false
    }
   },
   "source": [
    "Write code that calculates the rank of the matrix\n",
    "$$ A = \\begin{bmatrix} 1 & 2 & 1 \\\\ 3 & 0 & 5 \\\\ 7 & -1 & 0 \\end{bmatrix}. $$\n",
    "Save your answers as <code>A</code> and <code>rank_A</code>, respectively."
   ]
  },
  {
   "cell_type": "code",
   "execution_count": 2,
   "id": "3842adc8-dd06-47aa-9d26-efb9661fade5",
   "metadata": {
    "deletable": false,
    "nbgrader": {
     "cell_type": "code",
     "checksum": "2d896fe998d0c5652b80844b38d0bd3c",
     "grade": false,
     "grade_id": "cell-7797be35b6115b60",
     "locked": false,
     "schema_version": 3,
     "solution": true,
     "task": false
    }
   },
   "outputs": [
    {
     "ename": "NotImplementedError",
     "evalue": "",
     "output_type": "error",
     "traceback": [
      "\u001b[0;31m---------------------------------------------------------------------------\u001b[0m",
      "\u001b[0;31mNotImplementedError\u001b[0m                       Traceback (most recent call last)",
      "Cell \u001b[0;32mIn[2], line 2\u001b[0m\n\u001b[1;32m      1\u001b[0m \u001b[38;5;66;03m# YOUR CODE HERE\u001b[39;00m\n\u001b[0;32m----> 2\u001b[0m \u001b[38;5;28;01mraise\u001b[39;00m \u001b[38;5;167;01mNotImplementedError\u001b[39;00m()\n",
      "\u001b[0;31mNotImplementedError\u001b[0m: "
     ]
    }
   ],
   "source": [
    "# YOUR CODE HERE\n",
    "raise NotImplementedError()"
   ]
  },
  {
   "cell_type": "code",
   "execution_count": null,
   "id": "9083712a-9bed-421e-b7da-9482f32477e5",
   "metadata": {
    "deletable": false,
    "editable": false,
    "nbgrader": {
     "cell_type": "code",
     "checksum": "9e82c75f557c68fb2b55ae0b676e5251",
     "grade": true,
     "grade_id": "cell-5c28a8a9c607f211",
     "locked": true,
     "points": 1,
     "schema_version": 3,
     "solution": false,
     "task": false
    }
   },
   "outputs": [],
   "source": [
    "\"Verify that A and rank_A have been computed correctly. This cell contains hidden tests. (1 mark)\"\n",
    "assert rank_A.is_integer() and rank_A>=0, \"rank_A should be a nonnegative integer.\"\n",
    "print(\"Problem 1: Success!\")"
   ]
  },
  {
   "cell_type": "markdown",
   "id": "23b34567-4f5f-46a4-b6ed-437d5d79e360",
   "metadata": {
    "deletable": false,
    "editable": false,
    "nbgrader": {
     "cell_type": "markdown",
     "checksum": "706ad3ae6b0c2721cc84a6cea8bc672e",
     "grade": false,
     "grade_id": "cell-04982f8913f4871e",
     "locked": true,
     "schema_version": 3,
     "solution": false,
     "task": false
    }
   },
   "source": [
    "Write code that calculates the rank of the matrix\n",
    "$$ [A\\,|\\,\\textbf{b}] = \\left[\\begin{array}{ccc|c} 1 & 2 & 1 & 0 \\\\ 3 & 0 & 5 & -1 \\\\ 7 & -1 & 0 & 2\\end{array}\\right].$$\n",
    "Save your answers as <code>B</code> and <code>rank_B</code>, respectively."
   ]
  },
  {
   "cell_type": "code",
   "execution_count": null,
   "id": "e4ba0c92-b889-4351-bc73-924494501232",
   "metadata": {
    "deletable": false,
    "nbgrader": {
     "cell_type": "code",
     "checksum": "9c89755f7d93b7f6197dbcac6fe34767",
     "grade": false,
     "grade_id": "cell-4ed90714b7792558",
     "locked": false,
     "schema_version": 3,
     "solution": true,
     "task": false
    }
   },
   "outputs": [],
   "source": [
    "# YOUR CODE HERE\n",
    "raise NotImplementedError()"
   ]
  },
  {
   "cell_type": "code",
   "execution_count": null,
   "id": "d4a07409-9f07-4f9f-a615-ff32d3146bc6",
   "metadata": {
    "deletable": false,
    "editable": false,
    "nbgrader": {
     "cell_type": "code",
     "checksum": "6cb61e81a588f2f3c71865e5f302b659",
     "grade": true,
     "grade_id": "cell-c813104679190268",
     "locked": true,
     "points": 1,
     "schema_version": 3,
     "solution": false,
     "task": false
    }
   },
   "outputs": [],
   "source": [
    "\"Verify that B and rank_B have been computed correctly. This cell contains hidden tests. (1 mark)\"\n",
    "assert rank_B.is_integer() and rank_B>=0, \"rank_B should be a nonnegative integer.\"\n",
    "print(\"Problem 2: Success!\")"
   ]
  },
  {
   "cell_type": "markdown",
   "id": "26b234f6-36b8-4ebf-b392-b6326dff3c27",
   "metadata": {
    "deletable": false,
    "editable": false,
    "nbgrader": {
     "cell_type": "markdown",
     "checksum": "789512a89341cee683e7597b80dcec25",
     "grade": false,
     "grade_id": "cell-89677e7a9990448a",
     "locked": true,
     "schema_version": 3,
     "solution": false,
     "task": false
    }
   },
   "source": [
    "How many solutions does the following system of equations have?\n",
    "$$\n",
    "\\begin{align*}\n",
    "x+2y+z &= 0 \\\\\n",
    "3x+5z &= -1 \\\\\n",
    "7x-y &= 2\n",
    "\\end{align*}\n",
    "$$\n",
    "If there are none, enter <code>S=0</code>, if there is exactly one, enter <code>S=1</code>, and if there are infinitely many, enter <code>S=np.inf</code>"
   ]
  },
  {
   "cell_type": "code",
   "execution_count": null,
   "id": "fd324999-2fc4-4c29-af21-7ee0ede7f8e9",
   "metadata": {
    "deletable": false,
    "nbgrader": {
     "cell_type": "code",
     "checksum": "eaa053b14d09b301508ef3fd85841792",
     "grade": false,
     "grade_id": "cell-a124372e413cfcc6",
     "locked": false,
     "schema_version": 3,
     "solution": true,
     "task": false
    }
   },
   "outputs": [],
   "source": [
    "# YOUR CODE HERE\n",
    "raise NotImplementedError()"
   ]
  },
  {
   "cell_type": "code",
   "execution_count": null,
   "id": "e187ee76-29a9-4f8d-93c1-3618afb3fbe6",
   "metadata": {
    "deletable": false,
    "editable": false,
    "nbgrader": {
     "cell_type": "code",
     "checksum": "3ef582ee1ed6e935edcc78a595008d68",
     "grade": true,
     "grade_id": "cell-ae67f2bf581e451e",
     "locked": true,
     "points": 1,
     "schema_version": 3,
     "solution": false,
     "task": false
    }
   },
   "outputs": [],
   "source": [
    "\"This cell contains hidden tests. (1 mark)\"\n",
    "print(\"Problem 3:Success!\")"
   ]
  }
 ],
 "metadata": {
  "kernelspec": {
   "display_name": "Python 3 (ipykernel)",
   "language": "python",
   "name": "python3"
  },
  "language_info": {
   "codemirror_mode": {
    "name": "ipython",
    "version": 3
   },
   "file_extension": ".py",
   "mimetype": "text/x-python",
   "name": "python",
   "nbconvert_exporter": "python",
   "pygments_lexer": "ipython3",
   "version": "3.10.16"
  }
 },
 "nbformat": 4,
 "nbformat_minor": 5
}
